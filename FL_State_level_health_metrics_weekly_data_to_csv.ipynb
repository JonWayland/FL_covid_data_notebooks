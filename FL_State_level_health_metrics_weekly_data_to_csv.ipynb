{
  "nbformat": 4,
  "nbformat_minor": 0,
  "metadata": {
    "colab": {
      "name": "FL_State_level_health_metrics_weekly_data_to_csv.ipynb",
      "provenance": [],
      "authorship_tag": "ABX9TyOSd0h7m0fiIwSNs2PjU6NM",
      "include_colab_link": true
    },
    "kernelspec": {
      "name": "python3",
      "display_name": "Python 3"
    }
  },
  "cells": [
    {
      "cell_type": "markdown",
      "metadata": {
        "id": "view-in-github",
        "colab_type": "text"
      },
      "source": [
        "<a href=\"https://colab.research.google.com/github/jonrtaylor/FL_covid_data_notebooks/blob/master/FL_State_level_health_metrics_weekly_data_to_csv.ipynb\" target=\"_parent\"><img src=\"https://colab.research.google.com/assets/colab-badge.svg\" alt=\"Open In Colab\"/></a>"
      ]
    },
    {
      "cell_type": "code",
      "metadata": {
        "id": "tSDcuNNAuNAV",
        "colab_type": "code",
        "colab": {}
      },
      "source": [
        "###   CLICK \"Open in Colab\" to get started ###\n",
        "\n",
        "###   CLICK 'Runtime' ABOVE AND THEN CLICK 'Run all'\n",
        "\n",
        "###   YOU WILL SEE A DATA TABLE BETWEEN THE TOP CELL AND THE BOTTOM CELL SHOWING YOU THE DATA IN THIS NOTEBOOK\n",
        "\n",
        "###   THE LAST CELL CREATES A CSV FILE WHICH WILL DOWNLOAD TO YOUR PC\n",
        "\n",
        "###   PLEASE SHARE THIS RESOURCE IF YOU FIND IT HELPFUL\n",
        "\n",
        "\n",
        "import numpy as np\n",
        "import pandas as pd\n",
        "import requests\n",
        "import json\n",
        "\n",
        "url = \"https://services1.arcgis.com/CY1LXxl9zlJeBuRZ/ArcGIS/rest/services/Florida_Health_Metrics_StateSum/FeatureServer/0/query?where=ObjectId>0&objectIds=&time=&resultType=standard&outFields=*&returnIdsOnly=false&returnUniqueIdsOnly=false&returnCountOnly=false&returnDistinctValues=false&cacheHint=false&orderByFields=&groupByFieldsForStatistics=&outStatistics=&having=&resultOffset=&resultRecordCount=&sqlFormat=none&f=pjson&token=\"\n",
        "\n",
        "JSONContent = requests.get(url).json()\n",
        "df = pd.DataFrame([row['attributes'] for row in JSONContent['features']])\n",
        "df['Week_EndDate'] = pd.to_datetime(df.Week_EndDate, unit='ms')\n",
        "df['Week_StartDate'] = pd.to_datetime(df.Week_StartDate, unit='ms')\n",
        "df['EndDate'] = pd.to_datetime(df.Week_EndDate, unit='ms')\n",
        "df['StartDate'] = pd.to_datetime(df.Week_StartDate, unit='ms')\n",
        "df"
      ],
      "execution_count": null,
      "outputs": []
    },
    {
      "cell_type": "code",
      "metadata": {
        "id": "yMQ-br2aum_T",
        "colab_type": "code",
        "colab": {}
      },
      "source": [
        "df.to_csv('state_weekly_deltas_current.csv', index=False)\n",
        "from google.colab import files\n",
        "files.download('state_weekly_deltas_current.csv')"
      ],
      "execution_count": null,
      "outputs": []
    }
  ]
}